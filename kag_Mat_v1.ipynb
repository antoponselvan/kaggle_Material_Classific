{
 "cells": [
  {
   "cell_type": "code",
   "execution_count": 1,
   "metadata": {},
   "outputs": [],
   "source": [
    "import os\n",
    "import urllib.request"
   ]
  },
  {
   "cell_type": "code",
   "execution_count": 2,
   "metadata": {},
   "outputs": [],
   "source": [
    "import pandas as pd\n",
    "import numpy as np\n",
    "import matplotlib.pyplot as plt"
   ]
  },
  {
   "cell_type": "code",
   "execution_count": 3,
   "metadata": {},
   "outputs": [],
   "source": [
    "%matplotlib inline"
   ]
  },
  {
   "cell_type": "code",
   "execution_count": 5,
   "metadata": {},
   "outputs": [],
   "source": [
    "df_train = pd.read_json('./data_raw/train.json')"
   ]
  },
  {
   "cell_type": "code",
   "execution_count": 6,
   "metadata": {},
   "outputs": [
    {
     "data": {
      "text/plain": [
       "(194828, 2)"
      ]
     },
     "execution_count": 6,
     "metadata": {},
     "output_type": "execute_result"
    }
   ],
   "source": [
    "df_train.shape"
   ]
  },
  {
   "cell_type": "code",
   "execution_count": 7,
   "metadata": {},
   "outputs": [
    {
     "data": {
      "text/plain": [
       "(12800, 1)"
      ]
     },
     "execution_count": 7,
     "metadata": {},
     "output_type": "execute_result"
    }
   ],
   "source": [
    "df_test = pd.read_json('./data_raw/test.json')\n",
    "df_test.shape"
   ]
  },
  {
   "cell_type": "code",
   "execution_count": 9,
   "metadata": {},
   "outputs": [
    {
     "data": {
      "text/plain": [
       "str"
      ]
     },
     "execution_count": 9,
     "metadata": {},
     "output_type": "execute_result"
    }
   ],
   "source": [
    "type(df_train.loc[2][\"images\"][\"url\"][0])"
   ]
  },
  {
   "cell_type": "code",
   "execution_count": 43,
   "metadata": {},
   "outputs": [
    {
     "data": {
      "text/plain": [
       "('C:\\\\kaggle_comp\\\\mat/5/3.jpg', <http.client.HTTPMessage at 0x2350d4125c0>)"
      ]
     },
     "execution_count": 43,
     "metadata": {},
     "output_type": "execute_result"
    }
   ],
   "source": [
    "urllib.request.urlretrieve(df_train.loc[2][\"images\"][\"url\"][0],os.getcwd()+'/'+str(df_train.loc[2]['label_id'])+'/'+str(df_train.loc[2]['img_id'])+'.jpg')"
   ]
  },
  {
   "cell_type": "code",
   "execution_count": 14,
   "metadata": {
    "collapsed": true
   },
   "outputs": [
    {
     "ename": "FileExistsError",
     "evalue": "[WinError 183] Cannot create a file when that file already exists: 'C:\\\\kaggle_comp\\\\mat/2'",
     "output_type": "error",
     "traceback": [
      "\u001b[1;31m---------------------------------------------------------------------------\u001b[0m",
      "\u001b[1;31mFileExistsError\u001b[0m                           Traceback (most recent call last)",
      "\u001b[1;32m<ipython-input-14-54c0cf9a19e2>\u001b[0m in \u001b[0;36m<module>\u001b[1;34m()\u001b[0m\n\u001b[1;32m----> 1\u001b[1;33m \u001b[0mos\u001b[0m\u001b[1;33m.\u001b[0m\u001b[0mmkdir\u001b[0m\u001b[1;33m(\u001b[0m\u001b[0mos\u001b[0m\u001b[1;33m.\u001b[0m\u001b[0mgetcwd\u001b[0m\u001b[1;33m(\u001b[0m\u001b[1;33m)\u001b[0m\u001b[1;33m+\u001b[0m\u001b[1;34m'/2'\u001b[0m\u001b[1;33m)\u001b[0m\u001b[1;33m\u001b[0m\u001b[0m\n\u001b[0m",
      "\u001b[1;31mFileExistsError\u001b[0m: [WinError 183] Cannot create a file when that file already exists: 'C:\\\\kaggle_comp\\\\mat/2'"
     ]
    }
   ],
   "source": [
    "os.mkdir(os.getcwd()+'/2')"
   ]
  },
  {
   "cell_type": "code",
   "execution_count": 17,
   "metadata": {},
   "outputs": [
    {
     "data": {
      "text/plain": [
       "int"
      ]
     },
     "execution_count": 17,
     "metadata": {},
     "output_type": "execute_result"
    }
   ],
   "source": [
    "type(df_train.loc[2][\"annotations\"][\"label_id\"])"
   ]
  },
  {
   "cell_type": "code",
   "execution_count": 19,
   "metadata": {},
   "outputs": [],
   "source": [
    "df_train['label_id']=df_train[\"annotations\"].apply(lambda x: x[\"label_id\"])"
   ]
  },
  {
   "cell_type": "code",
   "execution_count": 31,
   "metadata": {},
   "outputs": [],
   "source": [
    "df_train['img_id']=df_train[\"annotations\"].apply(lambda x: x[\"image_id\"])"
   ]
  },
  {
   "cell_type": "code",
   "execution_count": 32,
   "metadata": {},
   "outputs": [
    {
     "data": {
      "text/html": [
       "<div>\n",
       "<style scoped>\n",
       "    .dataframe tbody tr th:only-of-type {\n",
       "        vertical-align: middle;\n",
       "    }\n",
       "\n",
       "    .dataframe tbody tr th {\n",
       "        vertical-align: top;\n",
       "    }\n",
       "\n",
       "    .dataframe thead th {\n",
       "        text-align: right;\n",
       "    }\n",
       "</style>\n",
       "<table border=\"1\" class=\"dataframe\">\n",
       "  <thead>\n",
       "    <tr style=\"text-align: right;\">\n",
       "      <th></th>\n",
       "      <th>annotations</th>\n",
       "      <th>images</th>\n",
       "      <th>label_id</th>\n",
       "      <th>img_id</th>\n",
       "    </tr>\n",
       "  </thead>\n",
       "  <tbody>\n",
       "    <tr>\n",
       "      <th>0</th>\n",
       "      <td>{'image_id': 1, 'label_id': 5}</td>\n",
       "      <td>{'url': ['https://img13.360buyimg.com/imgzone/...</td>\n",
       "      <td>5</td>\n",
       "      <td>1</td>\n",
       "    </tr>\n",
       "    <tr>\n",
       "      <th>1</th>\n",
       "      <td>{'image_id': 2, 'label_id': 5}</td>\n",
       "      <td>{'url': ['http://www.tengdakeli.cn/350/timg01/...</td>\n",
       "      <td>5</td>\n",
       "      <td>2</td>\n",
       "    </tr>\n",
       "    <tr>\n",
       "      <th>2</th>\n",
       "      <td>{'image_id': 3, 'label_id': 5}</td>\n",
       "      <td>{'url': ['https://img13.360buyimg.com/imgzone/...</td>\n",
       "      <td>5</td>\n",
       "      <td>3</td>\n",
       "    </tr>\n",
       "    <tr>\n",
       "      <th>3</th>\n",
       "      <td>{'image_id': 4, 'label_id': 5}</td>\n",
       "      <td>{'url': ['http://img4.tbcdn.cn/tfscom/i1/28554...</td>\n",
       "      <td>5</td>\n",
       "      <td>4</td>\n",
       "    </tr>\n",
       "    <tr>\n",
       "      <th>4</th>\n",
       "      <td>{'image_id': 5, 'label_id': 5}</td>\n",
       "      <td>{'url': ['http://a.vpimg4.com/upload/merchandi...</td>\n",
       "      <td>5</td>\n",
       "      <td>5</td>\n",
       "    </tr>\n",
       "  </tbody>\n",
       "</table>\n",
       "</div>"
      ],
      "text/plain": [
       "                      annotations  \\\n",
       "0  {'image_id': 1, 'label_id': 5}   \n",
       "1  {'image_id': 2, 'label_id': 5}   \n",
       "2  {'image_id': 3, 'label_id': 5}   \n",
       "3  {'image_id': 4, 'label_id': 5}   \n",
       "4  {'image_id': 5, 'label_id': 5}   \n",
       "\n",
       "                                              images  label_id  img_id  \n",
       "0  {'url': ['https://img13.360buyimg.com/imgzone/...         5       1  \n",
       "1  {'url': ['http://www.tengdakeli.cn/350/timg01/...         5       2  \n",
       "2  {'url': ['https://img13.360buyimg.com/imgzone/...         5       3  \n",
       "3  {'url': ['http://img4.tbcdn.cn/tfscom/i1/28554...         5       4  \n",
       "4  {'url': ['http://a.vpimg4.com/upload/merchandi...         5       5  "
      ]
     },
     "execution_count": 32,
     "metadata": {},
     "output_type": "execute_result"
    }
   ],
   "source": [
    "df_train.head()"
   ]
  },
  {
   "cell_type": "code",
   "execution_count": 21,
   "metadata": {
    "collapsed": true
   },
   "outputs": [
    {
     "name": "stdout",
     "output_type": "stream",
     "text": [
      "<class 'pandas.core.frame.DataFrame'>\n",
      "RangeIndex: 194828 entries, 0 to 194827\n",
      "Data columns (total 3 columns):\n",
      "annotations    194828 non-null object\n",
      "images         194828 non-null object\n",
      "label_id       194828 non-null int64\n",
      "dtypes: int64(1), object(2)\n",
      "memory usage: 4.5+ MB\n"
     ]
    }
   ],
   "source": [
    "df_train.info()"
   ]
  },
  {
   "cell_type": "code",
   "execution_count": 24,
   "metadata": {},
   "outputs": [
    {
     "name": "stdout",
     "output_type": "stream",
     "text": [
      "False\n"
     ]
    }
   ],
   "source": [
    "print(os.path.isdir(os.getcwd()+'/3'))"
   ]
  },
  {
   "cell_type": "code",
   "execution_count": 30,
   "metadata": {},
   "outputs": [],
   "source": [
    "for idx, row in df_train.iterrows():\n",
    "    #print(type(row))\n",
    "    if not(os.path.isdir(os.getcwd()+'/'+str(row['label_id']))):\n",
    "        os.mkdir(os.getcwd()+'/'+str(row['label_id']))"
   ]
  },
  {
   "cell_type": "code",
   "execution_count": 45,
   "metadata": {
    "collapsed": true
   },
   "outputs": [
    {
     "name": "stdout",
     "output_type": "stream",
     "text": [
      "done\n",
      "done\n",
      "done\n",
      "done\n",
      "done\n"
     ]
    }
   ],
   "source": [
    "for idx, row in df_train.loc[11:15].iterrows():\n",
    "    #print((row[\"images\"][\"url\"][0]))\n",
    "    try:\n",
    "        #urllib.request.urlretrieve(row[\"images\"][\"url\"],os.getcwd()+'/'+str(row['label_id'])+'/'+str(row['img_id'])+'.jpg')\n",
    "        urllib.request.urlretrieve(df_train.loc[idx][\"images\"][\"url\"][0],os.getcwd()+'/'+str(df_train.loc[idx]['label_id'])+'/'+str(df_train.loc[idx]['img_id'])+'.jpg')\n",
    "        print('done')\n",
    "    except:\n",
    "        print('fail')\n",
    "        pass\n",
    "            "
   ]
  },
  {
   "cell_type": "code",
   "execution_count": 74,
   "metadata": {},
   "outputs": [
    {
     "name": "stdout",
     "output_type": "stream",
     "text": [
      "0.0\n",
      "5\n"
     ]
    }
   ],
   "source": [
    "img_num=[]\n",
    "img_num=np.zeros((128,))\n",
    "print(img_num[4])\n",
    "max_num=5\n",
    "print(max_num)"
   ]
  },
  {
   "cell_type": "code",
   "execution_count": null,
   "metadata": {
    "collapsed": true
   },
   "outputs": [
    {
     "name": "stdout",
     "output_type": "stream",
     "text": [
      "done:104 : 0.0\n",
      "done:104 : 1.0\n",
      "done:104 : 2.0\n",
      "done:104 : 3.0\n",
      "fail\n",
      "done:104 : 4.0\n",
      "done:67 : 0.0\n",
      "done:67 : 1.0\n",
      "done:67 : 2.0\n",
      "fail\n",
      "done:67 : 3.0\n",
      "done:67 : 4.0\n",
      "done:15 : 0.0\n",
      "fail\n",
      "fail\n",
      "done:15 : 1.0\n",
      "fail\n",
      "fail\n",
      "done:15 : 2.0\n",
      "done:15 : 3.0\n",
      "done:15 : 4.0\n",
      "done:86 : 0.0\n",
      "done:86 : 1.0\n",
      "done:86 : 2.0\n",
      "done:86 : 3.0\n",
      "done:86 : 4.0\n",
      "done:120 : 0.0\n",
      "fail\n",
      "done:120 : 1.0\n",
      "done:120 : 2.0\n",
      "fail\n",
      "fail\n",
      "done:120 : 3.0\n",
      "done:120 : 4.0\n",
      "done:9 : 0.0\n",
      "done:9 : 1.0\n",
      "done:9 : 2.0\n",
      "done:9 : 3.0\n",
      "done:9 : 4.0\n",
      "done:74 : 0.0\n"
     ]
    }
   ],
   "source": [
    "for idx, row in df_train.iterrows():\n",
    "    #print((row[\"images\"][\"url\"][0]))\n",
    "    try:\n",
    "        if (img_num[df_train.loc[idx]['label_id']] < max_num):\n",
    "        #urllib.request.urlretrieve(row[\"images\"][\"url\"],os.getcwd()+'/'+str(row['label_id'])+'/'+str(row['img_id'])+'.jpg')\n",
    "            urllib.request.urlretrieve(df_train.loc[idx][\"images\"][\"url\"][0],os.getcwd()+'/'+str(df_train.loc[idx]['label_id'])+'/'+str(df_train.loc[idx]['img_id'])+'.jpg')\n",
    "            print('done:'+str(df_train.loc[idx]['label_id'])+str(\" : \")+str(img_num[df_train.loc[idx]['label_id']]))\n",
    "            img_num[df_train.loc[idx]['label_id']]+=1\n",
    "            #print(img_num[df_train.loc[idx]['img_id']])\n",
    "            #print(df_train.loc[idx]['img_id'])\n",
    "    except:\n",
    "        print('fail')\n",
    "        pass"
   ]
  },
  {
   "cell_type": "code",
   "execution_count": null,
   "metadata": {},
   "outputs": [],
   "source": [
    "df_train.shape"
   ]
  },
  {
   "cell_type": "code",
   "execution_count": null,
   "metadata": {},
   "outputs": [],
   "source": []
  }
 ],
 "metadata": {
  "kernelspec": {
   "display_name": "Python 3",
   "language": "python",
   "name": "python3"
  },
  "language_info": {
   "codemirror_mode": {
    "name": "ipython",
    "version": 3
   },
   "file_extension": ".py",
   "mimetype": "text/x-python",
   "name": "python",
   "nbconvert_exporter": "python",
   "pygments_lexer": "ipython3",
   "version": "3.6.4"
  }
 },
 "nbformat": 4,
 "nbformat_minor": 2
}
