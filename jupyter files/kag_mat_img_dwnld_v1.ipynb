{
 "cells": [
  {
   "cell_type": "code",
   "execution_count": 1,
   "metadata": {
    "collapsed": true
   },
   "outputs": [],
   "source": [
    "import os\n",
    "import urllib.request\n",
    "import pandas as pd\n",
    "import numpy as np\n",
    "import matplotlib.pyplot as plt\n",
    "import cv2\n",
    "import scipy.io"
   ]
  },
  {
   "cell_type": "code",
   "execution_count": 2,
   "metadata": {
    "collapsed": true
   },
   "outputs": [],
   "source": [
    "%matplotlib inline\n",
    "df_train = pd.read_json('./data_raw/train.json')\n",
    "df_val = pd.read_json('./data_raw/validation.json')\n",
    "df_test = pd.read_json('./data_raw/test.json')\n",
    "df_train['label_id']=df_train[\"annotations\"].apply(lambda x: x[\"label_id\"])\n",
    "df_train['img_id']=df_train[\"annotations\"].apply(lambda x: x[\"image_id\"])\n",
    "df_train['url']=df_train[\"images\"].apply(lambda x: x[\"url\"][0])"
   ]
  },
  {
   "cell_type": "code",
   "execution_count": 11,
   "metadata": {},
   "outputs": [
    {
     "name": "stdout",
     "output_type": "stream",
     "text": [
      "0 - \n",
      "1 - \n",
      "2 - \n",
      "3 - \n",
      "4 - \n",
      "5 - \n",
      "6 - \n",
      "7 - \n",
      "8 - \n"
     ]
    }
   ],
   "source": [
    "img_data_list=[]\n",
    "img_rows=128\n",
    "img_cols=128\n",
    "img_label =[]\n",
    "for i in range(195):\n",
    "    for idx, row in df_train.loc[(1000*i):(1000*(i+1)-1)].iterrows():\n",
    "        try:\n",
    "            resp = urllib.request.urlopen(str(row[\"url\"]), timeout=5)\n",
    "            image = np.asarray(bytearray(resp.read()), dtype=\"uint8\")\n",
    "            image = cv2.imdecode(image, cv2.IMREAD_COLOR)\n",
    "            print(str(idx)+' - ')\n",
    "            #input_img = url_to_image(row[\"url\"])\n",
    "            image = cv2.cvtColor(image,cv2.COLOR_BGR2GRAY)\n",
    "            input_img = cv2.resize(image,(img_rows,img_cols))\n",
    "            img_data_list.append(input_img)\n",
    "            img_label.append(row[\"label_id\"])\n",
    "        except:\n",
    "            pass\n",
    "    img_data = np.array(img_data_list)    \n",
    "    matfile = 'img_data_'+str(i)+'.mat'\n",
    "    scipy.io.savemat(matfile, mdict={'out': img_data}, oned_as='row')\n",
    "\n",
    "    img_Y = np.array(img_label)    \n",
    "    matfile = 'img_label_'+str(i)+'.mat'\n",
    "    scipy.io.savemat(matfile, mdict={'out': img_data}, oned_as='row')\n"
   ]
  },
  {
   "cell_type": "code",
   "execution_count": 3,
   "metadata": {},
   "outputs": [
    {
     "data": {
      "text/plain": [
       "(194828, 5)"
      ]
     },
     "execution_count": 3,
     "metadata": {},
     "output_type": "execute_result"
    }
   ],
   "source": [
    "df_train.shape"
   ]
  },
  {
   "cell_type": "code",
   "execution_count": 7,
   "metadata": {},
   "outputs": [
    {
     "data": {
      "text/plain": [
       "range(0, 194)"
      ]
     },
     "execution_count": 7,
     "metadata": {},
     "output_type": "execute_result"
    }
   ],
   "source": [
    "range(194)"
   ]
  },
  {
   "cell_type": "code",
   "execution_count": null,
   "metadata": {
    "collapsed": true
   },
   "outputs": [],
   "source": []
  }
 ],
 "metadata": {
  "kernelspec": {
   "display_name": "Python 3",
   "language": "python",
   "name": "python3"
  },
  "language_info": {
   "codemirror_mode": {
    "name": "ipython",
    "version": 3
   },
   "file_extension": ".py",
   "mimetype": "text/x-python",
   "name": "python",
   "nbconvert_exporter": "python",
   "pygments_lexer": "ipython3",
   "version": "3.6.1"
  }
 },
 "nbformat": 4,
 "nbformat_minor": 2
}
